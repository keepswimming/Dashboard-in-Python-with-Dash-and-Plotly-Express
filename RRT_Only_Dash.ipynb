{
  "nbformat": 4,
  "nbformat_minor": 0,
  "metadata": {
    "colab": {
      "provenance": []
    },
    "kernelspec": {
      "name": "python3",
      "display_name": "Python 3"
    },
    "language_info": {
      "name": "python"
    }
  },
  "cells": [
    {
      "cell_type": "markdown",
      "source": [
        "**Building Dashboard in Python with Dash and Plotly Express**\n",
        "\n",
        "Rita Miller, Data Scientist, www.linkedin.com/in/ rita-m-135953239"
      ],
      "metadata": {
        "id": "9r3iUrPgqd5u"
      }
    },
    {
      "cell_type": "code",
      "source": [
        "#Save file in Google and then mount Google Drive account\n",
        "#from google.colab import drive\n",
        "#drive.mount('/content/drive')\n",
        "#your Drive account will be mounted to the /content/drive directory in Colab.\n",
        "#https://saturncloud.io/blog/how-to-read-a-file-from-drive-in-google-colab/"
      ],
      "metadata": {
        "id": "hi0TzLBPo-IX"
      },
      "execution_count": null,
      "outputs": []
    },
    {
      "cell_type": "code",
      "execution_count": 1,
      "metadata": {
        "id": "M5kWrbYIqUYE"
      },
      "outputs": [],
      "source": [
        "#Reads Google Sheet into Python, but first authenticate\n",
        "from google.colab import auth\n",
        "auth.authenticate_user()"
      ]
    },
    {
      "cell_type": "code",
      "source": [
        "#Imports the necessary libraries and initialize my credentials\n",
        "import gspread\n",
        "from google.auth import default\n",
        "creds, _ = default()\n",
        "gc = gspread.authorize(creds)"
      ],
      "metadata": {
        "id": "cQ-MHJp8sZpB"
      },
      "execution_count": 2,
      "outputs": []
    },
    {
      "cell_type": "code",
      "source": [
        "#Open the desired sheet and get all values\n",
        "#worksheet = gc.open('RRTOnly').get_worksheet(0) #Aug\n",
        "worksheet = gc.open('RRTOnly').get_worksheet(1) #Sep\n",
        "rows = worksheet.get_all_values()"
      ],
      "metadata": {
        "id": "TxbKLcrlsbck"
      },
      "execution_count": 3,
      "outputs": []
    },
    {
      "cell_type": "code",
      "source": [
        "#Import Python Libraries\n",
        "\n",
        "#Data manipulation and analysis\n",
        "import pandas as pd\n",
        "#Fundamental package for scientific computing with Python\n",
        "import numpy as np\n",
        "\n",
        "##Data Visualization Packages\n",
        "import matplotlib.pyplot as plt #fundamental plotting library in Python.\n",
        "#The Seaborn library is used for statistical data visualization in Python.\n",
        "#Seaborn is built on top of matplotlib and provides a high-level interface for drawing\n",
        "#attractive and informative statistical graphics.\n",
        "import seaborn as sns\n",
        "\n",
        "#Dashboard\n",
        "!pip install dash #dont comment out\n",
        "import dash #Dash is a Python framework for building web applications\n",
        "##Dash core components (dcc) contains the various building blocks to create the app\n",
        "from dash import dcc, html\n",
        "import plotly.express as px\n",
        "\n",
        "#adds an invisible trace to the plot, which appears in the legend with the total count.\n",
        "#so the total count is displayed in the legend without affecting the plot itself\n",
        "import plotly.graph_objects as go\n",
        "\n",
        "#provides a way to interact with the operating system\n",
        "import os\n",
        "\n",
        "#imports the date and datetime classes from the datetime module\n",
        "from datetime import date, datetime\n",
        "\n",
        "#Callbacks\n",
        "from dash.dependencies import Input, Output\n",
        "\n",
        "#Suppress all warnings and garbage collector\n",
        "import warnings, gc\n",
        "warnings.filterwarnings('ignore')\n",
        "\n",
        "# Enable garbage collection\n",
        "gc.enable()\n"
      ],
      "metadata": {
        "id": "_OrrAK4KsnrN",
        "colab": {
          "base_uri": "https://localhost:8080/",
          "height": 677
        },
        "outputId": "033e3163-545d-4e41-f6e2-db79f922db47"
      },
      "execution_count": 4,
      "outputs": [
        {
          "output_type": "stream",
          "name": "stdout",
          "text": [
            "Collecting dash\n",
            "  Downloading dash-2.18.1-py3-none-any.whl.metadata (10 kB)\n",
            "Requirement already satisfied: Flask<3.1,>=1.0.4 in /usr/local/lib/python3.10/dist-packages (from dash) (2.2.5)\n",
            "Requirement already satisfied: Werkzeug<3.1 in /usr/local/lib/python3.10/dist-packages (from dash) (3.0.4)\n",
            "Requirement already satisfied: plotly>=5.0.0 in /usr/local/lib/python3.10/dist-packages (from dash) (5.24.1)\n",
            "Collecting dash-html-components==2.0.0 (from dash)\n",
            "  Downloading dash_html_components-2.0.0-py3-none-any.whl.metadata (3.8 kB)\n",
            "Collecting dash-core-components==2.0.0 (from dash)\n",
            "  Downloading dash_core_components-2.0.0-py3-none-any.whl.metadata (2.9 kB)\n",
            "Collecting dash-table==5.0.0 (from dash)\n",
            "  Downloading dash_table-5.0.0-py3-none-any.whl.metadata (2.4 kB)\n",
            "Requirement already satisfied: importlib-metadata in /usr/local/lib/python3.10/dist-packages (from dash) (8.5.0)\n",
            "Requirement already satisfied: typing-extensions>=4.1.1 in /usr/local/lib/python3.10/dist-packages (from dash) (4.12.2)\n",
            "Requirement already satisfied: requests in /usr/local/lib/python3.10/dist-packages (from dash) (2.32.3)\n",
            "Collecting retrying (from dash)\n",
            "  Downloading retrying-1.3.4-py3-none-any.whl.metadata (6.9 kB)\n",
            "Requirement already satisfied: nest-asyncio in /usr/local/lib/python3.10/dist-packages (from dash) (1.6.0)\n",
            "Requirement already satisfied: setuptools in /usr/local/lib/python3.10/dist-packages (from dash) (71.0.4)\n",
            "Requirement already satisfied: Jinja2>=3.0 in /usr/local/lib/python3.10/dist-packages (from Flask<3.1,>=1.0.4->dash) (3.1.4)\n",
            "Requirement already satisfied: itsdangerous>=2.0 in /usr/local/lib/python3.10/dist-packages (from Flask<3.1,>=1.0.4->dash) (2.2.0)\n",
            "Requirement already satisfied: click>=8.0 in /usr/local/lib/python3.10/dist-packages (from Flask<3.1,>=1.0.4->dash) (8.1.7)\n",
            "Requirement already satisfied: tenacity>=6.2.0 in /usr/local/lib/python3.10/dist-packages (from plotly>=5.0.0->dash) (9.0.0)\n",
            "Requirement already satisfied: packaging in /usr/local/lib/python3.10/dist-packages (from plotly>=5.0.0->dash) (24.1)\n",
            "Requirement already satisfied: MarkupSafe>=2.1.1 in /usr/local/lib/python3.10/dist-packages (from Werkzeug<3.1->dash) (2.1.5)\n",
            "Requirement already satisfied: zipp>=3.20 in /usr/local/lib/python3.10/dist-packages (from importlib-metadata->dash) (3.20.2)\n",
            "Requirement already satisfied: charset-normalizer<4,>=2 in /usr/local/lib/python3.10/dist-packages (from requests->dash) (3.3.2)\n",
            "Requirement already satisfied: idna<4,>=2.5 in /usr/local/lib/python3.10/dist-packages (from requests->dash) (3.10)\n",
            "Requirement already satisfied: urllib3<3,>=1.21.1 in /usr/local/lib/python3.10/dist-packages (from requests->dash) (2.2.3)\n",
            "Requirement already satisfied: certifi>=2017.4.17 in /usr/local/lib/python3.10/dist-packages (from requests->dash) (2024.8.30)\n",
            "Requirement already satisfied: six>=1.7.0 in /usr/local/lib/python3.10/dist-packages (from retrying->dash) (1.16.0)\n",
            "Downloading dash-2.18.1-py3-none-any.whl (7.5 MB)\n",
            "\u001b[2K   \u001b[90m━━━━━━━━━━━━━━━━━━━━━━━━━━━━━━━━━━━━━━━━\u001b[0m \u001b[32m7.5/7.5 MB\u001b[0m \u001b[31m33.4 MB/s\u001b[0m eta \u001b[36m0:00:00\u001b[0m\n",
            "\u001b[?25hDownloading dash_core_components-2.0.0-py3-none-any.whl (3.8 kB)\n",
            "Downloading dash_html_components-2.0.0-py3-none-any.whl (4.1 kB)\n",
            "Downloading dash_table-5.0.0-py3-none-any.whl (3.9 kB)\n",
            "Downloading retrying-1.3.4-py3-none-any.whl (11 kB)\n",
            "Installing collected packages: dash-table, dash-html-components, dash-core-components, retrying, dash\n",
            "Successfully installed dash-2.18.1 dash-core-components-2.0.0 dash-html-components-2.0.0 dash-table-5.0.0 retrying-1.3.4\n"
          ]
        }
      ]
    },
    {
      "cell_type": "code",
      "source": [
        "#Convert to a pandas dataframe.\n",
        "df = pd.DataFrame.from_records(rows[1:])\n",
        "print(df.head())"
      ],
      "metadata": {
        "id": "gGCO6_NIskA0",
        "colab": {
          "base_uri": "https://localhost:8080/"
        },
        "outputId": "21274339-d5e4-4b2f-b847-2c144720494b"
      },
      "execution_count": 5,
      "outputs": [
        {
          "output_type": "stream",
          "name": "stdout",
          "text": [
            "        0      1               2    3     4  5     6\n",
            "0  9/1/24  23:00     Respiratory  RRT   7SW  Y   ICU\n",
            "1                                                   \n",
            "2  9/1/24   7:18  Cardiovascular  RRT  10SW  N  Stay\n",
            "3                                                   \n",
            "4                                                   \n"
          ]
        }
      ]
    },
    {
      "cell_type": "code",
      "source": [
        "# Replace whitespace characters with NaN\n",
        "df_cleaned = df.replace(r'^\\s*$', np.nan, regex=True)\n",
        "df_cleaned = df_cleaned.dropna(how='all')\n",
        "#print(\"Cleaned DataFrame shape:\", df_cleaned.shape)"
      ],
      "metadata": {
        "id": "joA5kzzUsxAH"
      },
      "execution_count": 6,
      "outputs": []
    },
    {
      "cell_type": "code",
      "source": [
        "#Introduction\n",
        "\n",
        "# Define the Google Drive link\n",
        "#image_link = 'https://drive.google.com/file/d/1j2lggF3BPbVS9ksikYTe7GDmjJ_nl7AJ/view?usp=sharing'\n",
        "\n",
        "#Image not showing, try\n",
        "\n",
        "#Image not showing, path from Google drive verified\n",
        "#image_link = '/content/drive/MyDrive/Tech_Projects/Amber_Depew_Stat_Team_Swedish/Assets/nurse.png'\n",
        "\n",
        "#created folder named assets in same directory\n",
        "#image_link = 'https://drive.google.com/file/d/1j2lggF3BPbVS9ksikYTe7GDmjJ_nl7AJ/view?usp=drive_link'\n",
        "\n",
        "#Image not showing, try\n",
        "\n",
        "#Converted Google Drive link to a direct link\n",
        "#image_link = 'https://drive.google.com/drive/folders/1Sw-1b2Cl4TCC3dS0UU4RjUy6vcI6N_II?usp=drive_link'\n",
        "\n",
        "#Image not showing, try\n",
        "\n",
        "#Picture placed in Amazon pics\n",
        "image_link = 'https://www.amazon.com/photos/shared/adIpO3nGRaC70MsE-CBtjQ.qaO7ZleuoKEI6qSuZGdaex'\n",
        "\n",
        "# Initialize the Dash app\n",
        "app = dash.Dash(__name__)\n",
        "server = app.server  # Add this line for deployment\n",
        "\n",
        "app.layout = html.Div(\n",
        "    children=[\n",
        "        # Add created image\n",
        "        #html.Img(src=image_link,\n",
        "                 # Set the size of the image\n",
        "                 #style={'width': '100%', 'height': 'auto'}),\n",
        "        # Add header text\n",
        "        html.H1('Swedish First Hill - RRT Dashboard', style={'color': 'black'}),\n",
        "        # Add paragraph text\n",
        "        html.P(children=[\n",
        "            html.I(\"Developed by: Rita Miller, Data Scientist, RN\"),\n",
        "            html.Br(),\n",
        "            \"Date: \",\n",
        "            html.Span(date.today().strftime(\"%B %d, %Y\"))\n",
        "        ])\n",
        "    ],\n",
        "    # background color for entire app\n",
        "       style={'text-align':'center', 'font-size':'22px','background-color':'rgb(224, 255, 252)'})\n",
        "\n",
        "# Run the server/app\n",
        "if __name__ == '__main__':\n",
        "    app.run_server(debug=True, port=int(os.environ.get('PORT', 5000)))  # Ensure the port is set for deployment\n"
      ],
      "metadata": {
        "id": "Zt-gfUqlJhrq",
        "colab": {
          "base_uri": "https://localhost:8080/",
          "height": 671
        },
        "outputId": "01dc2a0e-54df-4282-af05-01c273c19961"
      },
      "execution_count": 31,
      "outputs": [
        {
          "output_type": "display_data",
          "data": {
            "text/plain": [
              "<IPython.core.display.Javascript object>"
            ],
            "application/javascript": [
              "(async (port, path, width, height, cache, element) => {\n",
              "    if (!google.colab.kernel.accessAllowed && !cache) {\n",
              "      return;\n",
              "    }\n",
              "    element.appendChild(document.createTextNode(''));\n",
              "    const url = await google.colab.kernel.proxyPort(port, {cache});\n",
              "    const iframe = document.createElement('iframe');\n",
              "    iframe.src = new URL(path, url).toString();\n",
              "    iframe.height = height;\n",
              "    iframe.width = width;\n",
              "    iframe.style.border = 0;\n",
              "    iframe.allow = [\n",
              "        'accelerometer',\n",
              "        'autoplay',\n",
              "        'camera',\n",
              "        'clipboard-read',\n",
              "        'clipboard-write',\n",
              "        'gyroscope',\n",
              "        'magnetometer',\n",
              "        'microphone',\n",
              "        'serial',\n",
              "        'usb',\n",
              "        'xr-spatial-tracking',\n",
              "    ].join('; ');\n",
              "    element.appendChild(iframe);\n",
              "  })(5000, \"/\", \"100%\", 650, false, window.element)"
            ]
          },
          "metadata": {}
        }
      ]
    },
    {
      "cell_type": "code",
      "source": [
        "# Dash App for Frequency of RRTs in Current Month\n",
        "\n",
        "# Group by date and RRT ONLY columns\n",
        "rrt_frequency = df_cleaned.groupby([df_cleaned.columns[0], df_cleaned.columns[3]]).size().reset_index(name='Count')\n",
        "\n",
        "# Sort by Date to ensure dates are in ascending order with total count in legend\n",
        "rrt_frequency = rrt_frequency.sort_values(by=df_cleaned.columns[0], ascending=True)\n",
        "\n",
        "# Rename columns for clarity\n",
        "rrt_frequency.columns = ['Date', 'RRT Occurrences', 'Count']\n",
        "\n",
        "# Calculate the total count\n",
        "total_count = rrt_frequency['Count'].sum()\n",
        "\n",
        "# Create the plot with plotly.express\n",
        "fig = px.line(rrt_frequency, x='Date', y='Count', markers=True, title='September 2024: RRT Occurrences by Date')\n",
        "\n",
        "# Add a trace for the total count in the legend\n",
        "fig.add_trace(go.Scatter(\n",
        "    x=[None], y=[None],\n",
        "    mode='markers',\n",
        "    marker=dict(size=0),\n",
        "    showlegend=True,\n",
        "    name=f'Total Count: {total_count}'\n",
        "))\n",
        "\n",
        "# Update layout for better visibility\n",
        "fig.update_layout(\n",
        "    xaxis_title='Dates',\n",
        "    yaxis_title='Frequency',\n",
        "    xaxis=dict(tickangle=45)\n",
        ")\n",
        "# Initialize the Dash app\n",
        "app = dash.Dash(__name__)\n",
        "server = app.server  # Add this line for deployment\n",
        "\n",
        "# Define the layout\n",
        "app.layout = html.Div(children=[\n",
        "    html.H1(children='September 2024: Daily Frequency of RRTs'),\n",
        "\n",
        "    html.Div(children=[\n",
        "        dcc.Graph(\n",
        "            id='line_graph',\n",
        "            figure=fig\n",
        "        )\n",
        "    ], style={'border': '5px dotted green'})  # Add border style\n",
        "])\n",
        "app.layout.children.append(\n",
        "    html.Div(children=[\n",
        "        html.H1(children='Explore the Daily RRT Frequency for September 2024'),\n",
        "        html.Div(children=[\n",
        "            dcc.Dropdown(\n",
        "                id='date-dropdown',\n",
        "                options=[{'label': date, 'value': date} for date in rrt_frequency['Date']],\n",
        "                value=rrt_frequency['Date'][0],\n",
        "                style={'width': '200px', 'margin': '0 auto', 'float': 'left'}\n",
        "            )\n",
        "        ]),\n",
        "        html.Div(id='output-container', style={'width': '350px', 'height': '50px', 'display': 'inline-block',\n",
        "                                               'vertical-align': 'top', 'border': '5px dotted blue', 'padding': '20px'})\n",
        "    ])\n",
        ")\n",
        "# Callback to update the output container\n",
        "@app.callback(\n",
        "    Output('output-container', 'children'),\n",
        "    [Input('date-dropdown', 'value')]\n",
        ")\n",
        "def update_output(selected_date):\n",
        "    try:\n",
        "        frequency = rrt_frequency[rrt_frequency['Date'] == selected_date]['Count'].values[0]\n",
        "        return f'The frequency of RRTs on {selected_date} was {frequency}.\\nThank you for Exploring the Swedish First Hill ICU Dashboard!'\n",
        "    except IndexError:\n",
        "        return f'No data available for {selected_date}.\\nThank you for Exploring the Swedish First Hill ICU Dashboard!'\n",
        "\n",
        "# Run the server/app\n",
        "if __name__ == '__main__':\n",
        "    app.run_server(debug=True, port=int(os.environ.get('PORT', 5000)))  # Ensure the port is set for deployment"
      ],
      "metadata": {
        "colab": {
          "base_uri": "https://localhost:8080/",
          "height": 671
        },
        "id": "F6DEDuqERdwh",
        "outputId": "586d5eb2-6b16-4ce7-c2ad-b820cdc9e91e"
      },
      "execution_count": 32,
      "outputs": [
        {
          "output_type": "display_data",
          "data": {
            "text/plain": [
              "<IPython.core.display.Javascript object>"
            ],
            "application/javascript": [
              "(async (port, path, width, height, cache, element) => {\n",
              "    if (!google.colab.kernel.accessAllowed && !cache) {\n",
              "      return;\n",
              "    }\n",
              "    element.appendChild(document.createTextNode(''));\n",
              "    const url = await google.colab.kernel.proxyPort(port, {cache});\n",
              "    const iframe = document.createElement('iframe');\n",
              "    iframe.src = new URL(path, url).toString();\n",
              "    iframe.height = height;\n",
              "    iframe.width = width;\n",
              "    iframe.style.border = 0;\n",
              "    iframe.allow = [\n",
              "        'accelerometer',\n",
              "        'autoplay',\n",
              "        'camera',\n",
              "        'clipboard-read',\n",
              "        'clipboard-write',\n",
              "        'gyroscope',\n",
              "        'magnetometer',\n",
              "        'microphone',\n",
              "        'serial',\n",
              "        'usb',\n",
              "        'xr-spatial-tracking',\n",
              "    ].join('; ');\n",
              "    element.appendChild(iframe);\n",
              "  })(5000, \"/\", \"100%\", 650, false, window.element)"
            ]
          },
          "metadata": {}
        }
      ]
    },
    {
      "cell_type": "code",
      "source": [
        "#Dash App for the Frequency of RRTs by Location (Top 12)\n",
        "\n",
        "# Calculate the frequency of each location (top 12)\n",
        "frequency_loc = df_cleaned[df_cleaned.columns[4]].value_counts().head(12).reset_index()\n",
        "frequency_loc.columns = ['Location', 'Frequency']\n",
        "\n",
        "# Create the bar plot with data labels\n",
        "fig = px.bar(frequency_loc, x='Location', y='Frequency', text='Frequency', title='September 2024: Frequency of RRTs by Location (Top 12)')\n",
        "\n",
        "# Automatically display the text on bars\n",
        "fig.update_traces(textposition='outside')\n",
        "\n",
        "# Initialize the Dash app\n",
        "app = dash.Dash(__name__)\n",
        "server = app.server  # Add this line for deployment\n",
        "\n",
        "# Define the layout\n",
        "app.layout = html.Div(children=[\n",
        "    html.H1(children='September 2024: Frequency of RRTs by Location (Top 12)'),\n",
        "    html.Div(children=[\n",
        "        dcc.Graph(\n",
        "            id='bar_graph',\n",
        "            figure=fig\n",
        "        )\n",
        "    ], style={'border': '5px dotted green'})  # Add border style\n",
        "])\n",
        "\n",
        "# Define the layout\n",
        "# Additional layout for dropdown and output container\n",
        "app.layout.children.append(\n",
        "    html.Div(children=[\n",
        "    html.H1(children='Explore the Frequency of RRTs by Location (Top 12) for September 2024'),\n",
        "    html.Div(children=[\n",
        "        dcc.Dropdown(\n",
        "            id='location-dropdown',\n",
        "            options=[{'label': location, 'value': location} for location in frequency_loc['Location']],\n",
        "            value=frequency_loc['Location'].iloc[0]\n",
        "        ),\n",
        "    ], style={'width': '200px', 'margin': '0 auto', 'float': 'left'}),  # Align dropdown to the left\n",
        "    html.Div(id='output-container', style={'width': '350px', 'height': '50px', 'display': 'inline-block',\n",
        "                                           'vertical-align': 'top', 'border': '5px dotted blue', 'padding': '20px'})\n",
        "])\n",
        ")\n",
        "\n",
        "# Callback to update the output container\n",
        "@app.callback(\n",
        "    Output('output-container', 'children'),\n",
        "    [Input('location-dropdown', 'value')]\n",
        ")\n",
        "\n",
        "def update_output(selected_location):\n",
        "    try:\n",
        "        frequency = frequency_loc[frequency_loc['Location'] == selected_location]['Frequency'].values[0]\n",
        "        return f'The frequency of RRTs for {selected_location} was {frequency}.\\nThank you for exploring the Swedish First Hill ICU Dashboard!'\n",
        "    except IndexError:\n",
        "        return f'No data available for {selected_location}.\\nThank you for exploring the Swedish First Hill ICU Dashboard!'\n",
        "\n",
        "# Run the server/app\n",
        "if __name__ == '__main__':\n",
        "    app.run_server(debug=True, port=int(os.environ.get('PORT', 5000)))  # Ensure the port is set for deployment\n"
      ],
      "metadata": {
        "id": "XBsgD-adgPim",
        "colab": {
          "base_uri": "https://localhost:8080/",
          "height": 671
        },
        "outputId": "b54c603d-81ad-423a-f004-3387c455b70e"
      },
      "execution_count": 33,
      "outputs": [
        {
          "output_type": "display_data",
          "data": {
            "text/plain": [
              "<IPython.core.display.Javascript object>"
            ],
            "application/javascript": [
              "(async (port, path, width, height, cache, element) => {\n",
              "    if (!google.colab.kernel.accessAllowed && !cache) {\n",
              "      return;\n",
              "    }\n",
              "    element.appendChild(document.createTextNode(''));\n",
              "    const url = await google.colab.kernel.proxyPort(port, {cache});\n",
              "    const iframe = document.createElement('iframe');\n",
              "    iframe.src = new URL(path, url).toString();\n",
              "    iframe.height = height;\n",
              "    iframe.width = width;\n",
              "    iframe.style.border = 0;\n",
              "    iframe.allow = [\n",
              "        'accelerometer',\n",
              "        'autoplay',\n",
              "        'camera',\n",
              "        'clipboard-read',\n",
              "        'clipboard-write',\n",
              "        'gyroscope',\n",
              "        'magnetometer',\n",
              "        'microphone',\n",
              "        'serial',\n",
              "        'usb',\n",
              "        'xr-spatial-tracking',\n",
              "    ].join('; ');\n",
              "    element.appendChild(iframe);\n",
              "  })(5000, \"/\", \"100%\", 650, false, window.element)"
            ]
          },
          "metadata": {}
        }
      ]
    },
    {
      "cell_type": "code",
      "source": [
        "#Frequency of RRTs by Shifts\n",
        "\n",
        "# Convert the timestamp column to datetime\n",
        "#df_cleaned[df_cleaned.columns[1]] = pd.to_datetime(df_cleaned[df_cleaned.columns[1]])\n",
        "\n",
        "\n",
        "# Convert the timestamp column to datetime\n",
        "df_cleaned[1] = pd.to_datetime(df_cleaned[1], errors='coerce')\n",
        "\n",
        "# Drop rows with NaT values if necessary\n",
        "df_cleaned = df_cleaned.dropna(subset=[1])\n",
        "\n",
        "\n",
        "# Define the bins and labels for the shifts\n",
        "bins = [0, 7, 19, 24]\n",
        "labels = ['Night Shift', 'Day Shift', 'Night Shift']\n",
        "\n",
        "# Categorize the timestamps into shifts\n",
        "df_cleaned['Shift'] = pd.cut(df_cleaned[df_cleaned.columns[1]].dt.hour, bins=bins, labels=labels,\n",
        "                             right=False, include_lowest=True, ordered=False)\n",
        "\n",
        "# Calculate the frequency by shift\n",
        "frequency_shift = df_cleaned['Shift'].value_counts().reset_index()\n",
        "frequency_shift.columns = ['Shift', 'Frequency']\n",
        "\n",
        "# Create the bar plot with data labels\n",
        "fig = px.bar(frequency_shift, x='Shift', y='Frequency', text='Frequency', title='September 2024: Frequency of RRTs by Shift')\n",
        "\n",
        "# Automatically display the text on bars\n",
        "fig.update_traces(textposition='outside')\n",
        "\n",
        "# Initialize the Dash app\n",
        "app = dash.Dash(__name__)\n",
        "server = app.server  # Add this line for deployment\n",
        "\n",
        "# Define the layout\n",
        "app.layout = html.Div(children=[\n",
        "    html.H1(children='September 2024: Frequency of RRTs by Shift'),\n",
        "    html.Div(children=[\n",
        "        dcc.Graph(\n",
        "            id='bar_graph',\n",
        "            figure=fig\n",
        ")\n",
        "    ], style={'border': '5px dotted green'})  # Add border style\n",
        "])\n",
        "\n",
        "# Run the server/app\n",
        "if __name__ == '__main__':\n",
        "    app.run_server(debug=True, port=int(os.environ.get('PORT', 5000)))  # Ensure the port is set for deployment\n",
        "\n",
        "gc.enable()"
      ],
      "metadata": {
        "id": "glrDnwnzQ0IN",
        "colab": {
          "base_uri": "https://localhost:8080/",
          "height": 671
        },
        "outputId": "f2f6652f-297f-4760-b604-a51c60c67b49"
      },
      "execution_count": 34,
      "outputs": [
        {
          "output_type": "display_data",
          "data": {
            "text/plain": [
              "<IPython.core.display.Javascript object>"
            ],
            "application/javascript": [
              "(async (port, path, width, height, cache, element) => {\n",
              "    if (!google.colab.kernel.accessAllowed && !cache) {\n",
              "      return;\n",
              "    }\n",
              "    element.appendChild(document.createTextNode(''));\n",
              "    const url = await google.colab.kernel.proxyPort(port, {cache});\n",
              "    const iframe = document.createElement('iframe');\n",
              "    iframe.src = new URL(path, url).toString();\n",
              "    iframe.height = height;\n",
              "    iframe.width = width;\n",
              "    iframe.style.border = 0;\n",
              "    iframe.allow = [\n",
              "        'accelerometer',\n",
              "        'autoplay',\n",
              "        'camera',\n",
              "        'clipboard-read',\n",
              "        'clipboard-write',\n",
              "        'gyroscope',\n",
              "        'magnetometer',\n",
              "        'microphone',\n",
              "        'serial',\n",
              "        'usb',\n",
              "        'xr-spatial-tracking',\n",
              "    ].join('; ');\n",
              "    element.appendChild(iframe);\n",
              "  })(5000, \"/\", \"100%\", 650, false, window.element)"
            ]
          },
          "metadata": {}
        }
      ]
    },
    {
      "cell_type": "code",
      "source": [
        "#Frequency of RRTs by Triggers\n",
        "\n",
        "# Frequency of RRT by Triggers in Current Month\n",
        "# Calculate the frequency of each trigger\n",
        "frequency_triggers = df_cleaned[df_cleaned.columns[2]].value_counts().reset_index()\n",
        "frequency_triggers.columns = ['Triggers', 'Frequency']\n",
        "\n",
        "# Create the bar plot with data labels\n",
        "fig = px.bar(frequency_triggers, x='Triggers', y='Frequency', text='Frequency', title='September 2024: Frequency of RRTs by Triggers')\n",
        "\n",
        "# Automatically display the text on bars\n",
        "fig.update_traces(textposition='outside')\n",
        "\n",
        "# Initialize the Dash app\n",
        "app = dash.Dash(__name__)\n",
        "server = app.server  # Add this line for deployment\n",
        "\n",
        "# Define the layout\n",
        "app.layout = html.Div(children=[\n",
        "    html.H1(children='September 2024: Frequency of RRTs by Triggers'),\n",
        "    html.Div(children=[\n",
        "        dcc.Graph(\n",
        "            id='bar_graph',\n",
        "            figure=fig\n",
        "        )\n",
        "    ], style={'border': '5px dotted green'})  # Add border style\n",
        "])\n",
        "\n",
        "# Run the server/app\n",
        "if __name__ == '__main__':\n",
        "    app.run_server(debug=True, port=int(os.environ.get('PORT', 5000)))  # Ensure the port is set for deployment\n",
        "\n"
      ],
      "metadata": {
        "id": "BnOwtDjpRaWR",
        "colab": {
          "base_uri": "https://localhost:8080/",
          "height": 671
        },
        "outputId": "758f2561-2640-45d5-9316-5a2f39a4c32f"
      },
      "execution_count": 35,
      "outputs": [
        {
          "output_type": "display_data",
          "data": {
            "text/plain": [
              "<IPython.core.display.Javascript object>"
            ],
            "application/javascript": [
              "(async (port, path, width, height, cache, element) => {\n",
              "    if (!google.colab.kernel.accessAllowed && !cache) {\n",
              "      return;\n",
              "    }\n",
              "    element.appendChild(document.createTextNode(''));\n",
              "    const url = await google.colab.kernel.proxyPort(port, {cache});\n",
              "    const iframe = document.createElement('iframe');\n",
              "    iframe.src = new URL(path, url).toString();\n",
              "    iframe.height = height;\n",
              "    iframe.width = width;\n",
              "    iframe.style.border = 0;\n",
              "    iframe.allow = [\n",
              "        'accelerometer',\n",
              "        'autoplay',\n",
              "        'camera',\n",
              "        'clipboard-read',\n",
              "        'clipboard-write',\n",
              "        'gyroscope',\n",
              "        'magnetometer',\n",
              "        'microphone',\n",
              "        'serial',\n",
              "        'usb',\n",
              "        'xr-spatial-tracking',\n",
              "    ].join('; ');\n",
              "    element.appendChild(iframe);\n",
              "  })(5000, \"/\", \"100%\", 650, false, window.element)"
            ]
          },
          "metadata": {}
        }
      ]
    },
    {
      "cell_type": "code",
      "source": [
        "# Frequency of RRTs by Higher Level of Care (HLC)\n",
        "\n",
        "# Calculate the frequency of each Higher Level of Care (HLC)\n",
        "frequency_hlc = df_cleaned[df_cleaned.columns[5]].value_counts().reset_index()\n",
        "frequency_hlc.columns = ['HLC', 'Frequency']\n",
        "\n",
        "# Create the bar plot with data labels\n",
        "fig = px.bar(frequency_hlc, x='HLC', y='Frequency', text='Frequency', title='September 2024: Frequency of RRTs by Higher Level of Care (HLC)')\n",
        "\n",
        "# Automatically display the text on bars\n",
        "fig.update_traces(textposition='outside')\n",
        "\n",
        "# Initialize the Dash app\n",
        "app = dash.Dash(__name__)\n",
        "server = app.server  # Add this line for deployment\n",
        "\n",
        "# Define the layout\n",
        "app.layout = html.Div(children=[\n",
        "    html.H1(children='September 2024: Frequency of RRTs by Higher Level of Care (HLC)'),\n",
        "    html.Div(children=[\n",
        "        dcc.Graph(\n",
        "            id='bar_graph',\n",
        "            figure=fig\n",
        "        )\n",
        "    ], style={'border': '5px dotted green'})  # Add border style\n",
        "])\n",
        "\n",
        "# Run the server/app\n",
        "if __name__ == '__main__':\n",
        "    app.run_server(debug=True, port=int(os.environ.get('PORT', 5000)))  # Ensure the port is set for deployment\n"
      ],
      "metadata": {
        "id": "9H1yehciS4Oe",
        "colab": {
          "base_uri": "https://localhost:8080/",
          "height": 671
        },
        "outputId": "dcbf7a15-cfef-462d-e85e-431dddb326d6"
      },
      "execution_count": 36,
      "outputs": [
        {
          "output_type": "display_data",
          "data": {
            "text/plain": [
              "<IPython.core.display.Javascript object>"
            ],
            "application/javascript": [
              "(async (port, path, width, height, cache, element) => {\n",
              "    if (!google.colab.kernel.accessAllowed && !cache) {\n",
              "      return;\n",
              "    }\n",
              "    element.appendChild(document.createTextNode(''));\n",
              "    const url = await google.colab.kernel.proxyPort(port, {cache});\n",
              "    const iframe = document.createElement('iframe');\n",
              "    iframe.src = new URL(path, url).toString();\n",
              "    iframe.height = height;\n",
              "    iframe.width = width;\n",
              "    iframe.style.border = 0;\n",
              "    iframe.allow = [\n",
              "        'accelerometer',\n",
              "        'autoplay',\n",
              "        'camera',\n",
              "        'clipboard-read',\n",
              "        'clipboard-write',\n",
              "        'gyroscope',\n",
              "        'magnetometer',\n",
              "        'microphone',\n",
              "        'serial',\n",
              "        'usb',\n",
              "        'xr-spatial-tracking',\n",
              "    ].join('; ');\n",
              "    element.appendChild(iframe);\n",
              "  })(5000, \"/\", \"100%\", 650, false, window.element)"
            ]
          },
          "metadata": {}
        }
      ]
    },
    {
      "cell_type": "code",
      "source": [
        "# Frequency of RRT by Disposition\n",
        "\n",
        "frequency_outcome = df_cleaned[df_cleaned.columns[6]].value_counts().reset_index()\n",
        "frequency_outcome.columns = ['Disposition', 'Frequency']\n",
        "\n",
        "# Create the bar plot with data labels\n",
        "fig = px.bar(frequency_outcome, x='Disposition', y='Frequency', text='Frequency',\n",
        "             title='September 2024: Frequency of RRTs by Disposition')\n",
        "\n",
        "# Automatically display the text on bars\n",
        "fig.update_traces(textposition='outside')\n",
        "\n",
        "# Initialize the Dash app\n",
        "app = dash.Dash(__name__)\n",
        "server = app.server  # Add this line for deployment\n",
        "\n",
        "# Define the layout\n",
        "app.layout = html.Div(children=[\n",
        "    html.H1(children='September 2024: Frequency of RRTs by Disposition'),\n",
        "    html.Div(children=[\n",
        "        dcc.Graph(\n",
        "            id='bar_graph',\n",
        "            figure=fig\n",
        "        )\n",
        "    ], style={'border': '5px dotted green'})  # Add border style\n",
        "])\n",
        "\n",
        "# Run the server/app\n",
        "if __name__ == '__main__':\n",
        "    app.run_server(debug=True, port=int(os.environ.get('PORT', 5000)))  # Ensure the port is set for deployment\n",
        "\n",
        "gc.enable()"
      ],
      "metadata": {
        "id": "z3nCfCFjTAwW",
        "colab": {
          "base_uri": "https://localhost:8080/",
          "height": 671
        },
        "outputId": "8d4b4e8f-03a0-44be-b23e-30ad609d88d7"
      },
      "execution_count": 37,
      "outputs": [
        {
          "output_type": "display_data",
          "data": {
            "text/plain": [
              "<IPython.core.display.Javascript object>"
            ],
            "application/javascript": [
              "(async (port, path, width, height, cache, element) => {\n",
              "    if (!google.colab.kernel.accessAllowed && !cache) {\n",
              "      return;\n",
              "    }\n",
              "    element.appendChild(document.createTextNode(''));\n",
              "    const url = await google.colab.kernel.proxyPort(port, {cache});\n",
              "    const iframe = document.createElement('iframe');\n",
              "    iframe.src = new URL(path, url).toString();\n",
              "    iframe.height = height;\n",
              "    iframe.width = width;\n",
              "    iframe.style.border = 0;\n",
              "    iframe.allow = [\n",
              "        'accelerometer',\n",
              "        'autoplay',\n",
              "        'camera',\n",
              "        'clipboard-read',\n",
              "        'clipboard-write',\n",
              "        'gyroscope',\n",
              "        'magnetometer',\n",
              "        'microphone',\n",
              "        'serial',\n",
              "        'usb',\n",
              "        'xr-spatial-tracking',\n",
              "    ].join('; ');\n",
              "    element.appendChild(iframe);\n",
              "  })(5000, \"/\", \"100%\", 650, false, window.element)"
            ]
          },
          "metadata": {}
        }
      ]
    }
  ]
}